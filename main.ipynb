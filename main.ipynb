{
 "cells": [
  {
   "cell_type": "code",
   "execution_count": null,
   "metadata": {},
   "outputs": [],
   "source": [
    "from src.model import lgbm_train, xgb_train\n",
    "import pandas as pd\n",
    "import numpy as np\n",
    "from src.preprocess import utils"
   ]
  },
  {
   "cell_type": "markdown",
   "metadata": {},
   "source": [
    "# Load data"
   ]
  },
  {
   "cell_type": "code",
   "execution_count": 6,
   "metadata": {},
   "outputs": [
    {
     "data": {
      "text/html": [
       "<div>\n",
       "<style scoped>\n",
       "    .dataframe tbody tr th:only-of-type {\n",
       "        vertical-align: middle;\n",
       "    }\n",
       "\n",
       "    .dataframe tbody tr th {\n",
       "        vertical-align: top;\n",
       "    }\n",
       "\n",
       "    .dataframe thead th {\n",
       "        text-align: right;\n",
       "    }\n",
       "</style>\n",
       "<table border=\"1\" class=\"dataframe\">\n",
       "  <thead>\n",
       "    <tr style=\"text-align: right;\">\n",
       "      <th></th>\n",
       "      <th>fraud_bool</th>\n",
       "      <th>income</th>\n",
       "      <th>name_email_similarity</th>\n",
       "      <th>prev_address_months_count</th>\n",
       "      <th>current_address_months_count</th>\n",
       "      <th>customer_age</th>\n",
       "      <th>days_since_request</th>\n",
       "      <th>intended_balcon_amount</th>\n",
       "      <th>payment_type</th>\n",
       "      <th>zip_count_4w</th>\n",
       "      <th>...</th>\n",
       "      <th>foreign_request</th>\n",
       "      <th>source</th>\n",
       "      <th>session_length_in_minutes</th>\n",
       "      <th>device_os</th>\n",
       "      <th>keep_alive_session</th>\n",
       "      <th>device_distinct_emails_8w</th>\n",
       "      <th>device_fraud_count</th>\n",
       "      <th>month</th>\n",
       "      <th>x1</th>\n",
       "      <th>x2</th>\n",
       "    </tr>\n",
       "  </thead>\n",
       "  <tbody>\n",
       "    <tr>\n",
       "      <th>0</th>\n",
       "      <td>0</td>\n",
       "      <td>0.2</td>\n",
       "      <td>0.369510</td>\n",
       "      <td>326</td>\n",
       "      <td>20</td>\n",
       "      <td>60</td>\n",
       "      <td>0.022212</td>\n",
       "      <td>-0.758101</td>\n",
       "      <td>AB</td>\n",
       "      <td>647</td>\n",
       "      <td>...</td>\n",
       "      <td>0</td>\n",
       "      <td>INTERNET</td>\n",
       "      <td>19.450933</td>\n",
       "      <td>other</td>\n",
       "      <td>1</td>\n",
       "      <td>2</td>\n",
       "      <td>0</td>\n",
       "      <td>3</td>\n",
       "      <td>-0.282223</td>\n",
       "      <td>-0.137122</td>\n",
       "    </tr>\n",
       "    <tr>\n",
       "      <th>1</th>\n",
       "      <td>0</td>\n",
       "      <td>0.6</td>\n",
       "      <td>0.858929</td>\n",
       "      <td>-1</td>\n",
       "      <td>154</td>\n",
       "      <td>50</td>\n",
       "      <td>0.038221</td>\n",
       "      <td>-0.781645</td>\n",
       "      <td>AB</td>\n",
       "      <td>1238</td>\n",
       "      <td>...</td>\n",
       "      <td>0</td>\n",
       "      <td>INTERNET</td>\n",
       "      <td>3.641099</td>\n",
       "      <td>windows</td>\n",
       "      <td>1</td>\n",
       "      <td>1</td>\n",
       "      <td>0</td>\n",
       "      <td>5</td>\n",
       "      <td>-0.145247</td>\n",
       "      <td>1.614553</td>\n",
       "    </tr>\n",
       "    <tr>\n",
       "      <th>2</th>\n",
       "      <td>0</td>\n",
       "      <td>0.9</td>\n",
       "      <td>0.166457</td>\n",
       "      <td>-1</td>\n",
       "      <td>41</td>\n",
       "      <td>50</td>\n",
       "      <td>0.002588</td>\n",
       "      <td>17.710636</td>\n",
       "      <td>AA</td>\n",
       "      <td>815</td>\n",
       "      <td>...</td>\n",
       "      <td>0</td>\n",
       "      <td>INTERNET</td>\n",
       "      <td>3.850864</td>\n",
       "      <td>macintosh</td>\n",
       "      <td>0</td>\n",
       "      <td>1</td>\n",
       "      <td>0</td>\n",
       "      <td>4</td>\n",
       "      <td>-0.029179</td>\n",
       "      <td>1.089166</td>\n",
       "    </tr>\n",
       "    <tr>\n",
       "      <th>3</th>\n",
       "      <td>0</td>\n",
       "      <td>0.8</td>\n",
       "      <td>0.250290</td>\n",
       "      <td>23</td>\n",
       "      <td>9</td>\n",
       "      <td>50</td>\n",
       "      <td>0.004026</td>\n",
       "      <td>18.224113</td>\n",
       "      <td>AA</td>\n",
       "      <td>1204</td>\n",
       "      <td>...</td>\n",
       "      <td>0</td>\n",
       "      <td>INTERNET</td>\n",
       "      <td>5.182197</td>\n",
       "      <td>windows</td>\n",
       "      <td>1</td>\n",
       "      <td>1</td>\n",
       "      <td>0</td>\n",
       "      <td>2</td>\n",
       "      <td>2.178365</td>\n",
       "      <td>1.301696</td>\n",
       "    </tr>\n",
       "    <tr>\n",
       "      <th>4</th>\n",
       "      <td>0</td>\n",
       "      <td>0.1</td>\n",
       "      <td>0.619087</td>\n",
       "      <td>-1</td>\n",
       "      <td>30</td>\n",
       "      <td>30</td>\n",
       "      <td>0.011687</td>\n",
       "      <td>-1.434154</td>\n",
       "      <td>AB</td>\n",
       "      <td>1182</td>\n",
       "      <td>...</td>\n",
       "      <td>0</td>\n",
       "      <td>INTERNET</td>\n",
       "      <td>4.346861</td>\n",
       "      <td>windows</td>\n",
       "      <td>1</td>\n",
       "      <td>1</td>\n",
       "      <td>0</td>\n",
       "      <td>7</td>\n",
       "      <td>1.472099</td>\n",
       "      <td>0.367675</td>\n",
       "    </tr>\n",
       "  </tbody>\n",
       "</table>\n",
       "<p>5 rows × 34 columns</p>\n",
       "</div>"
      ],
      "text/plain": [
       "   fraud_bool  income  name_email_similarity  prev_address_months_count  \\\n",
       "0           0     0.2               0.369510                        326   \n",
       "1           0     0.6               0.858929                         -1   \n",
       "2           0     0.9               0.166457                         -1   \n",
       "3           0     0.8               0.250290                         23   \n",
       "4           0     0.1               0.619087                         -1   \n",
       "\n",
       "   current_address_months_count  customer_age  days_since_request  \\\n",
       "0                            20            60            0.022212   \n",
       "1                           154            50            0.038221   \n",
       "2                            41            50            0.002588   \n",
       "3                             9            50            0.004026   \n",
       "4                            30            30            0.011687   \n",
       "\n",
       "   intended_balcon_amount payment_type  zip_count_4w  ...  foreign_request  \\\n",
       "0               -0.758101           AB           647  ...                0   \n",
       "1               -0.781645           AB          1238  ...                0   \n",
       "2               17.710636           AA           815  ...                0   \n",
       "3               18.224113           AA          1204  ...                0   \n",
       "4               -1.434154           AB          1182  ...                0   \n",
       "\n",
       "     source  session_length_in_minutes  device_os  keep_alive_session  \\\n",
       "0  INTERNET                  19.450933      other                   1   \n",
       "1  INTERNET                   3.641099    windows                   1   \n",
       "2  INTERNET                   3.850864  macintosh                   0   \n",
       "3  INTERNET                   5.182197    windows                   1   \n",
       "4  INTERNET                   4.346861    windows                   1   \n",
       "\n",
       "  device_distinct_emails_8w  device_fraud_count  month        x1        x2  \n",
       "0                         2                   0      3 -0.282223 -0.137122  \n",
       "1                         1                   0      5 -0.145247  1.614553  \n",
       "2                         1                   0      4 -0.029179  1.089166  \n",
       "3                         1                   0      2  2.178365  1.301696  \n",
       "4                         1                   0      7  1.472099  0.367675  \n",
       "\n",
       "[5 rows x 34 columns]"
      ]
     },
     "execution_count": 6,
     "metadata": {},
     "output_type": "execute_result"
    }
   ],
   "source": [
    "df = pd.read_csv('data/Variant III.csv')\n",
    "df.head()"
   ]
  },
  {
   "cell_type": "markdown",
   "metadata": {},
   "source": [
    "# Model"
   ]
  },
  {
   "cell_type": "markdown",
   "metadata": {},
   "source": [
    "### LGBM"
   ]
  },
  {
   "cell_type": "code",
   "execution_count": 19,
   "metadata": {},
   "outputs": [
    {
     "data": {
      "text/plain": [
       "<module 'src.model.lgbm_train' from '\\\\\\\\mac\\\\Home\\\\Downloads\\\\BankDemo\\\\src\\\\model\\\\lgbm_train.py'>"
      ]
     },
     "execution_count": 19,
     "metadata": {},
     "output_type": "execute_result"
    }
   ],
   "source": [
    "import importlib\n",
    "\n",
    "importlib.reload(lgbm_train)"
   ]
  },
  {
   "cell_type": "code",
   "execution_count": 20,
   "metadata": {},
   "outputs": [],
   "source": [
    "lgbm = lgbm_train.LGBMModel()\n",
    "pred_lgbm = lgbm.fit(df)"
   ]
  },
  {
   "cell_type": "markdown",
   "metadata": {},
   "source": [
    "### XGBoost"
   ]
  },
  {
   "cell_type": "code",
   "execution_count": null,
   "metadata": {},
   "outputs": [],
   "source": [
    "xgb = xgb_train.XGBoostModel()\n",
    "pred_xgb = xgb.fit(df)"
   ]
  },
  {
   "cell_type": "markdown",
   "metadata": {},
   "source": [
    "### Ensemble"
   ]
  },
  {
   "cell_type": "code",
   "execution_count": null,
   "metadata": {},
   "outputs": [],
   "source": [
    "pred_ensembled = utils.hard_voting([pred_lgbm, pred_xgb])\n",
    "print(pred_ensembled)"
   ]
  },
  {
   "cell_type": "markdown",
   "metadata": {},
   "source": [
    "# Evaluate"
   ]
  },
  {
   "cell_type": "markdown",
   "metadata": {},
   "source": []
  }
 ],
 "metadata": {
  "kernelspec": {
   "display_name": "venv",
   "language": "python",
   "name": "python3"
  },
  "language_info": {
   "codemirror_mode": {
    "name": "ipython",
    "version": 3
   },
   "file_extension": ".py",
   "mimetype": "text/x-python",
   "name": "python",
   "nbconvert_exporter": "python",
   "pygments_lexer": "ipython3",
   "version": "3.11.4"
  }
 },
 "nbformat": 4,
 "nbformat_minor": 2
}
