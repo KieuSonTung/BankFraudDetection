{
 "cells": [
  {
   "cell_type": "code",
   "execution_count": 5,
   "metadata": {},
   "outputs": [
    {
     "name": "stdout",
     "output_type": "stream",
     "text": [
      "   fraud_bool  income  name_email_similarity  prev_address_months_count  \\\n",
      "0           0     0.2               0.369510                        326   \n",
      "1           0     0.6               0.858929                         -1   \n",
      "2           0     0.9               0.166457                         -1   \n",
      "3           0     0.8               0.250290                         23   \n",
      "4           0     0.1               0.619087                         -1   \n",
      "\n",
      "   current_address_months_count  customer_age  days_since_request  \\\n",
      "0                            20            60            0.022212   \n",
      "1                           154            50            0.038221   \n",
      "2                            41            50            0.002588   \n",
      "3                             9            50            0.004026   \n",
      "4                            30            30            0.011687   \n",
      "\n",
      "   intended_balcon_amount payment_type  zip_count_4w  ...  foreign_request  \\\n",
      "0               -0.758101           AB           647  ...                0   \n",
      "1               -0.781645           AB          1238  ...                0   \n",
      "2               17.710636           AA           815  ...                0   \n",
      "3               18.224113           AA          1204  ...                0   \n",
      "4               -1.434154           AB          1182  ...                0   \n",
      "\n",
      "     source  session_length_in_minutes  device_os  keep_alive_session  \\\n",
      "0  INTERNET                  19.450933      other                   1   \n",
      "1  INTERNET                   3.641099    windows                   1   \n",
      "2  INTERNET                   3.850864  macintosh                   0   \n",
      "3  INTERNET                   5.182197    windows                   1   \n",
      "4  INTERNET                   4.346861    windows                   1   \n",
      "\n",
      "  device_distinct_emails_8w  device_fraud_count  month        x1        x2  \n",
      "0                         2                   0      3 -0.282223 -0.137122  \n",
      "1                         1                   0      5 -0.145247  1.614553  \n",
      "2                         1                   0      4 -0.029179  1.089166  \n",
      "3                         1                   0      2  2.178365  1.301696  \n",
      "4                         1                   0      7  1.472099  0.367675  \n",
      "\n",
      "[5 rows x 34 columns]\n"
     ]
    }
   ],
   "source": [
    "from src.model import main"
   ]
  },
  {
   "cell_type": "code",
   "execution_count": null,
   "metadata": {},
   "outputs": [],
   "source": []
  }
 ],
 "metadata": {
  "kernelspec": {
   "display_name": "venv",
   "language": "python",
   "name": "python3"
  },
  "language_info": {
   "codemirror_mode": {
    "name": "ipython",
    "version": 3
   },
   "file_extension": ".py",
   "mimetype": "text/x-python",
   "name": "python",
   "nbconvert_exporter": "python",
   "pygments_lexer": "ipython3",
   "version": "3.9.13"
  }
 },
 "nbformat": 4,
 "nbformat_minor": 2
}
